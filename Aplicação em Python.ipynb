{
  "nbformat": 4,
  "nbformat_minor": 0,
  "metadata": {
    "colab": {
      "name": "Untitled3.ipynb",
      "provenance": [],
      "authorship_tag": "ABX9TyMfdJJ3xyJqKvLosKgnG058",
      "include_colab_link": true
    },
    "kernelspec": {
      "name": "python3",
      "display_name": "Python 3"
    },
    "language_info": {
      "name": "python"
    }
  },
  "cells": [
    {
      "cell_type": "markdown",
      "metadata": {
        "id": "view-in-github",
        "colab_type": "text"
      },
      "source": [
        "<a href=\"https://colab.research.google.com/github/Outled/Aplica-o-para-venda-de-Ingressos/blob/main/Aplica%C3%A7%C3%A3o%20em%20Python.ipynb\" target=\"_parent\"><img src=\"https://colab.research.google.com/assets/colab-badge.svg\" alt=\"Open In Colab\"/></a>"
      ]
    },
    {
      "cell_type": "code",
      "execution_count": 1,
      "metadata": {
        "id": "b_TsTnwLkBKD"
      },
      "outputs": [],
      "source": [
        "#Brincado com codigo em Python"
      ]
    },
    {
      "cell_type": "code",
      "source": [
        "\n",
        "idade = int (input(\"Digite a sua idade \"))\n",
        "\n",
        "if idade >= 21 :\n",
        "  print(\"Autorizado a compra do seu ingresso :)\")\n",
        "  print(\"Digite o seu CPF\")\n",
        "elif idade < 21 :\n",
        "  print(\"Desculpe você e menor de idade , digite o CPF da pessoa responsavel legalmente por você \")\n",
        "responsavel2 = int (input(\"Numero do CPF\"))\n",
        "\n",
        "eventos= input(\"Digite uma das bandas disponiveis:  Wesley Safadao , Xand Aviao , Rai Sai Rodada ,  João Gomes\")\n",
        "festa = input(\"Digite a area da festa : Camarote valor = 500, Front valor = 250 , Pista = 150\")\n",
        "\n",
        "print(\"Obrigado pela sua compra volte sempre\")\n",
        "\n",
        "\n",
        "\n",
        "\n"
      ],
      "metadata": {
        "colab": {
          "base_uri": "https://localhost:8080/"
        },
        "id": "0AS3QXH4kDrD",
        "outputId": "47cfe9b3-dff6-4150-a60e-d3b127a86ccc"
      },
      "execution_count": 125,
      "outputs": [
        {
          "output_type": "stream",
          "name": "stdout",
          "text": [
            "Digite a sua idade 21\n",
            "Autorizado a compra do seu ingresso :)\n",
            "Digite o seu CPF\n",
            "Numero do CPF231343143141\n",
            "Digite uma das bandas disponiveis:  Wesley Safadao , Xand Aviao , Rai Sai Rodada ,  João GomesWesley Safadao\n",
            "Digite a area da festa : Camarote valor = 500, Front valor = 250 , Pista = 150Camarote\n",
            "Obrigado pela sua compra volte sempre\n"
          ]
        }
      ]
    },
    {
      "cell_type": "code",
      "source": [
        ""
      ],
      "metadata": {
        "id": "7KvdYX0mkD3u"
      },
      "execution_count": null,
      "outputs": []
    },
    {
      "cell_type": "code",
      "source": [
        ""
      ],
      "metadata": {
        "id": "JEmEi9E_kEIw"
      },
      "execution_count": null,
      "outputs": []
    }
  ]
}